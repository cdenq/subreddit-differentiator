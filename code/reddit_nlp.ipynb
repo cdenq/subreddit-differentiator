{
 "cells": [
  {
   "attachments": {},
   "cell_type": "markdown",
   "metadata": {},
   "source": [
    "# <font color='blue'>Introduction</font>"
   ]
  },
  {
   "attachments": {},
   "cell_type": "markdown",
   "metadata": {},
   "source": [
    "## <font color='green'>Foreword</font>"
   ]
  },
  {
   "attachments": {},
   "cell_type": "markdown",
   "metadata": {},
   "source": [
    "Christopher Denq\n",
    "\n",
    "5/5/2023\n",
    "\n",
    "Notebook 3 of 3\n",
    "\n",
    "Contains modeling and conclusions for this NLP project."
   ]
  },
  {
   "attachments": {},
   "cell_type": "markdown",
   "metadata": {},
   "source": [
    "My five main considerations for models are...\n",
    "- linear regression, logistic regression\n",
    "- neighbors, KNN\n",
    "- ensemble (bagging), random forest\n",
    "- ensemble (boosting), Adaboost\n",
    "- stacking model\n",
    "\n",
    "I decided to use log regression (despite normality violations) as a \"baseline\" model. I skipped KNN because that suffers tremendously from high-dimensionality data. I will also use random forest and the stacking model with the hopes that a linear regression model (tends to underfit) and a RF (tends to overfit) w a stacking model might balance out in the future. I forgo the boosting model due to computer processing power."
   ]
  },
  {
   "attachments": {},
   "cell_type": "markdown",
   "metadata": {},
   "source": [
    "## <font color='green'>Problem Statement</font>"
   ]
  },
  {
   "cell_type": "markdown",
   "metadata": {},
   "source": [
    "In the competitive and dynamic world of big data, data science teams are eager to leverage the internet's free data for insight.\n",
    "\n",
    "This project aims to \"pre-train\" several NLP classification models and then provide an executive summary of the results to an existing data science client. This data science team is looking to accurately differentiate between two specific subreddits (AskReddit, AskScience) as a first step in developing targetted ads/recommendations.\n",
    "\n",
    "Success of these pre-trained models will be based on balanced accuracy score because a \"false positive\" is not anymore problematic than a \"false negative\" in this business context. The scope of the project is limited to the data scrapped within 3 weeks on said subreddits. The model choices were limited by local compute power. The executive summary provides \"future considerations\" for the existing data science client, including mentions between score choice, model choice, and scope choice."
   ]
  },
  {
   "attachments": {},
   "cell_type": "markdown",
   "metadata": {},
   "source": [
    "## <font color='green'>Code Setup</font>"
   ]
  },
  {
   "cell_type": "markdown",
   "metadata": {},
   "source": [
    "### Imports"
   ]
  },
  {
   "cell_type": "code",
   "execution_count": 191,
   "metadata": {},
   "outputs": [],
   "source": [
    "import pandas as pd\n",
    "import numpy as np\n",
    "import matplotlib.pyplot as plt\n",
    "import seaborn as sns\n",
    "\n",
    "from sklearn.feature_extraction.text import CountVectorizer, TfidfVectorizer, ENGLISH_STOP_WORDS\n",
    "from sklearn.model_selection import train_test_split, GridSearchCV\n",
    "from sklearn.preprocessing import StandardScaler\n",
    "from sklearn.tree import DecisionTreeClassifier\n",
    "from sklearn.linear_model import LogisticRegression\n",
    "from sklearn.ensemble import RandomForestClassifier, StackingClassifier, AdaBoostClassifier\n",
    "from sklearn.metrics import ConfusionMatrixDisplay, balanced_accuracy_score, precision_score, recall_score, f1_score, classification_report\n",
    "\n",
    "# Note: see reddit_cleaning_eda for why this setting is here\n",
    "pd.set_option('mode.chained_assignment', None)"
   ]
  },
  {
   "attachments": {},
   "cell_type": "markdown",
   "metadata": {},
   "source": [
    "### Global Custom Functions"
   ]
  },
  {
   "cell_type": "code",
   "execution_count": 155,
   "metadata": {},
   "outputs": [],
   "source": [
    "# custom function for scoring\n",
    "def score_me(model, X_train, y_train, X_test, y_test) -> None:\n",
    "    \"\"\" \n",
    "    Print the balanced accuracy score for both training and testing.\n",
    "\n",
    "    Parameters:\n",
    "        model: sklearn.model\n",
    "            The model on which the balanced accuracy scores are assessing\n",
    "\n",
    "        X_train: np.array\n",
    "            The x_training data to calculate scores\n",
    "\n",
    "        y_train: pd.Series\n",
    "            The y_training data to calculate scores\n",
    "\n",
    "        X_test: np.array\n",
    "            The x_testing data to calculate scores\n",
    "\n",
    "        y_test: pd.Series\n",
    "            The y_testing data to calculate scores\n",
    "\n",
    "    Returns:\n",
    "        None\n",
    "    \"\"\" \n",
    "    y_pred_train = model.predict(X_train) \n",
    "    y_pred = model.predict(X_test)\n",
    "\n",
    "    ConfusionMatrixDisplay.from_estimator(model, X_test, y_test)\n",
    "    \n",
    "    # training\n",
    "    train_report = classification_report(y_train, y_pred_train, output_dict=True)\n",
    "    train_bal_acc = balanced_accuracy_score(y_train, y_pred_train)\n",
    "    train_prec = precision_score(y_train, y_pred_train)\n",
    "    train_recall = recall_score(y_train, y_pred_train)\n",
    "    train_f1 = f1_score(y_train, y_pred_train)\n",
    "    train_scores = [train_bal_acc, train_prec, train_recall, train_f1]\n",
    "\n",
    "    # testing\n",
    "    test_report = classification_report(y_test, y_pred, output_dict=True)\n",
    "    test_bal_acc = balanced_accuracy_score(y_test, y_pred)\n",
    "    test_prec = precision_score(y_test, y_pred)\n",
    "    test_recall = recall_score(y_test, y_pred)\n",
    "    test_f1 = f1_score(y_test, y_pred)\n",
    "    test_scores = [test_bal_acc, test_prec, test_recall, test_f1]\n",
    "\n",
    "    # output labels\n",
    "    labels = [\"bal_acc\", \"prec\", \"recall\", \"f1\"]\n",
    "\n",
    "    # printing\n",
    "    print(f\"{model}\")\n",
    "    print(f\"Training\")\n",
    "    for i in range(len(train_scores)):\n",
    "        print(f\"{labels[i]}: {train_scores[i]}\")\n",
    "    print(f\"Testing\")\n",
    "    for i in range(len(train_scores)):\n",
    "        print(f\"{labels[i]}: {test_scores[i]}\")\n",
    "    print(\"-\"*10)\n",
    "    return (train_report, train_scores, test_report, test_scores)"
   ]
  },
  {
   "cell_type": "code",
   "execution_count": 156,
   "metadata": {},
   "outputs": [],
   "source": [
    "# replacement for .head()\n",
    "def peek(df: pd.DataFrame) -> None:\n",
    "    \"\"\" \n",
    "    Print the top and bottom 3 values in a df.\n",
    "\n",
    "    Parameters:\n",
    "        df: pd.DataFrame\n",
    "            The df to peek on\n",
    "\n",
    "    Returns:\n",
    "        None\n",
    "    \"\"\" \n",
    "    print(df.iloc[np.r_[0:3, -3:0]])\n",
    "    return"
   ]
  },
  {
   "cell_type": "markdown",
   "metadata": {},
   "source": [
    "### Loading Dataset & Global Variables"
   ]
  },
  {
   "cell_type": "code",
   "execution_count": 183,
   "metadata": {},
   "outputs": [
    {
     "data": {
      "text/html": [
       "<div>\n",
       "<style scoped>\n",
       "    .dataframe tbody tr th:only-of-type {\n",
       "        vertical-align: middle;\n",
       "    }\n",
       "\n",
       "    .dataframe tbody tr th {\n",
       "        vertical-align: top;\n",
       "    }\n",
       "\n",
       "    .dataframe thead th {\n",
       "        text-align: right;\n",
       "    }\n",
       "</style>\n",
       "<table border=\"1\" class=\"dataframe\">\n",
       "  <thead>\n",
       "    <tr style=\"text-align: right;\">\n",
       "      <th></th>\n",
       "      <th>model</th>\n",
       "      <th>bal_acc</th>\n",
       "      <th>precision</th>\n",
       "      <th>recall</th>\n",
       "      <th>f1</th>\n",
       "    </tr>\n",
       "  </thead>\n",
       "  <tbody>\n",
       "  </tbody>\n",
       "</table>\n",
       "</div>"
      ],
      "text/plain": [
       "Empty DataFrame\n",
       "Columns: [model, bal_acc, precision, recall, f1]\n",
       "Index: []"
      ]
     },
     "execution_count": 183,
     "metadata": {},
     "output_type": "execute_result"
    }
   ],
   "source": [
    "# global variable: df of final scores\n",
    "scores_df = pd.DataFrame(columns=[\"model\", \"bal_acc\", \"precision\", \"recall\", \"f1\"]) #cvec\n",
    "scores_2_df = pd.DataFrame(columns=[\"model\", \"bal_acc\", \"precision\", \"recall\", \"f1\"]) #tfidf\n",
    "scores_df"
   ]
  },
  {
   "cell_type": "code",
   "execution_count": 158,
   "metadata": {},
   "outputs": [
    {
     "name": "stdout",
     "output_type": "stream",
     "text": [
      "(24697, 5)\n",
      "       Unnamed: 0                                              title  \\\n",
      "0               0           whats the sluttiest thing a man can wear   \n",
      "1               1  if my daughter wants to become a content creat...   \n",
      "2               2  womens of reddit why do you care about zodiac ...   \n",
      "24694       25460      why do we hear sounds that arent really there   \n",
      "24695       25461  at what point in time could the average person...   \n",
      "24696       25462  is it safe to drink very diluited strong acid ...   \n",
      "\n",
      "        subreddit  char_count  word_count  \n",
      "0       askreddit          40           8  \n",
      "1       askreddit          68          15  \n",
      "2       askreddit          51          10  \n",
      "24694  askscience          45           9  \n",
      "24695  askscience         130          21  \n",
      "24696  askscience          55          10  \n"
     ]
    }
   ],
   "source": [
    "# importing data\n",
    "df = pd.read_csv(\"../scrapped_data/clean_ask_data.csv\")\n",
    "print(df.shape)\n",
    "peek(df)"
   ]
  },
  {
   "attachments": {},
   "cell_type": "markdown",
   "metadata": {},
   "source": [
    "# <font color='blue'>Modeling</font>"
   ]
  },
  {
   "attachments": {},
   "cell_type": "markdown",
   "metadata": {},
   "source": [
    "## <font color='green'>Preprocessing</font>"
   ]
  },
  {
   "cell_type": "markdown",
   "metadata": {},
   "source": [
    "### Data Cleaning"
   ]
  },
  {
   "cell_type": "code",
   "execution_count": 159,
   "metadata": {},
   "outputs": [
    {
     "name": "stdout",
     "output_type": "stream",
     "text": [
      "                                                   title   subreddit\n",
      "0               whats the sluttiest thing a man can wear   askreddit\n",
      "1      if my daughter wants to become a content creat...   askreddit\n",
      "2      womens of reddit why do you care about zodiac ...   askreddit\n",
      "24694      why do we hear sounds that arent really there  askscience\n",
      "24695  at what point in time could the average person...  askscience\n",
      "24696  is it safe to drink very diluited strong acid ...  askscience\n"
     ]
    }
   ],
   "source": [
    "# dropping unused columns\n",
    "df = df.loc[:, [\"title\", \"subreddit\"]]\n",
    "peek(df)"
   ]
  },
  {
   "cell_type": "code",
   "execution_count": 160,
   "metadata": {},
   "outputs": [
    {
     "name": "stdout",
     "output_type": "stream",
     "text": [
      "                                                   title  subreddit\n",
      "0               whats the sluttiest thing a man can wear          1\n",
      "1      if my daughter wants to become a content creat...          1\n",
      "2      womens of reddit why do you care about zodiac ...          1\n",
      "24694      why do we hear sounds that arent really there          0\n",
      "24695  at what point in time could the average person...          0\n",
      "24696  is it safe to drink very diluited strong acid ...          0\n"
     ]
    },
    {
     "name": "stderr",
     "output_type": "stream",
     "text": [
      "C:\\Users\\chris\\AppData\\Local\\Temp\\ipykernel_12520\\4030240715.py:2: FutureWarning: In a future version, `df.iloc[:, i] = newvals` will attempt to set the values inplace instead of always setting a new array. To retain the old behavior, use either `df[df.columns[i]] = newvals` or, if columns are non-unique, `df.isetitem(i, newvals)`\n",
      "  df.loc[:, \"subreddit\"] = df.loc[:, \"subreddit\"].map({\"askreddit\": 1, \"askscience\": 0})\n"
     ]
    }
   ],
   "source": [
    "# mapping\n",
    "df.loc[:, \"subreddit\"] = df.loc[:, \"subreddit\"].map({\"askreddit\": 1, \"askscience\": 0})\n",
    "peek(df)"
   ]
  },
  {
   "attachments": {},
   "cell_type": "markdown",
   "metadata": {},
   "source": [
    "### Train Test Split"
   ]
  },
  {
   "cell_type": "code",
   "execution_count": 161,
   "metadata": {},
   "outputs": [],
   "source": [
    "X = df[\"title\"]\n",
    "y = df[\"subreddit\"]\n",
    "X_train, X_test, y_train, y_test = train_test_split(X, y, random_state=42)"
   ]
  },
  {
   "cell_type": "markdown",
   "metadata": {},
   "source": [
    "### Vectorize"
   ]
  },
  {
   "cell_type": "code",
   "execution_count": 162,
   "metadata": {},
   "outputs": [],
   "source": [
    "# will be using 2 types of vectorizing and then applying models on both of them to determine best result\n",
    "# generating stopwords\n",
    "custom_words = [\"what\", \"does\", \"how\", \"which\", \"whats\", \"did\", \"why\", \"where\", \"who\", \"when\", \"like\"]\n",
    "stop_words = ENGLISH_STOP_WORDS.union(custom_words) # these were determined from EDA"
   ]
  },
  {
   "cell_type": "code",
   "execution_count": 163,
   "metadata": {},
   "outputs": [],
   "source": [
    "# Count Vectorizer\n",
    "cvec_vect = CountVectorizer(stop_words=stop_words)\n",
    "X_train_cvec_dense = np.asarray(cvec_vect.fit_transform(X_train).todense())\n",
    "X_test_cvec_dense = np.asarray(cvec_vect.transform(X_test).todense())\n",
    "# NOTE: applying np.asarray due to futurewarning"
   ]
  },
  {
   "cell_type": "code",
   "execution_count": 164,
   "metadata": {},
   "outputs": [],
   "source": [
    "# Tfidf Vectorizer\n",
    "tfidf_vect = TfidfVectorizer(stop_words=stop_words)\n",
    "X_train_tfidf_dense = np.asarray(tfidf_vect.fit_transform(X_train).todense())\n",
    "X_test_tfidf_dense = np.asarray(tfidf_vect.transform(X_test).todense())"
   ]
  },
  {
   "cell_type": "code",
   "execution_count": 165,
   "metadata": {},
   "outputs": [
    {
     "name": "stdout",
     "output_type": "stream",
     "text": [
      "(18522, 18413)\n",
      "(6175, 18413)\n",
      "(18522, 18413)\n",
      "(6175, 18413)\n"
     ]
    }
   ],
   "source": [
    "# creating DataFrame versions to check\n",
    "X_train_cvec_df = pd.DataFrame(X_train_cvec_dense, columns=cvec_vect.get_feature_names_out())\n",
    "X_test_cvec_df = pd.DataFrame(X_test_cvec_dense, columns=cvec_vect.get_feature_names_out())\n",
    "\n",
    "X_train_tfidf_df = pd.DataFrame(X_train_tfidf_dense, columns=tfidf_vect.get_feature_names_out())\n",
    "X_test_tfidf_df = pd.DataFrame(X_test_tfidf_dense, columns=tfidf_vect.get_feature_names_out())\n",
    "\n",
    "for i in [X_train_cvec_df, X_test_cvec_df, X_train_tfidf_df, X_test_tfidf_df]:\n",
    "    print(i.shape)"
   ]
  },
  {
   "cell_type": "markdown",
   "metadata": {},
   "source": [
    "### Standardize"
   ]
  },
  {
   "cell_type": "code",
   "execution_count": 166,
   "metadata": {},
   "outputs": [],
   "source": [
    "# scaling Count Vectorizer\n",
    "sc = StandardScaler()\n",
    "Z_train_cvec = sc.fit_transform(X_train_cvec_dense) \n",
    "Z_test_cvec = sc.transform(X_test_cvec_dense)"
   ]
  },
  {
   "cell_type": "code",
   "execution_count": 167,
   "metadata": {},
   "outputs": [],
   "source": [
    "# scaling Tfidf Vectorizer\n",
    "sc = StandardScaler()\n",
    "Z_train_tfidf = sc.fit_transform(X_train_tfidf_dense)\n",
    "Z_test_tfidf = sc.transform(X_test_tfidf_dense)"
   ]
  },
  {
   "attachments": {},
   "cell_type": "markdown",
   "metadata": {},
   "source": [
    "## <font color='green'>Fitting on CVEC</font>"
   ]
  },
  {
   "attachments": {},
   "cell_type": "markdown",
   "metadata": {},
   "source": [
    "### Logistic Regression"
   ]
  },
  {
   "cell_type": "code",
   "execution_count": 185,
   "metadata": {},
   "outputs": [
    {
     "name": "stderr",
     "output_type": "stream",
     "text": [
      "c:\\Users\\chris\\anaconda3\\envs\\PythonData\\lib\\site-packages\\sklearn\\linear_model\\_logistic.py:814: ConvergenceWarning: lbfgs failed to converge (status=1):\n",
      "STOP: TOTAL NO. of ITERATIONS REACHED LIMIT.\n",
      "\n",
      "Increase the number of iterations (max_iter) or scale the data as shown in:\n",
      "    https://scikit-learn.org/stable/modules/preprocessing.html\n",
      "Please also refer to the documentation for alternative solver options:\n",
      "    https://scikit-learn.org/stable/modules/linear_model.html#logistic-regression\n",
      "  n_iter_i = _check_optimize_result(\n"
     ]
    },
    {
     "name": "stdout",
     "output_type": "stream",
     "text": [
      "LogisticRegression()\n",
      "Training\n",
      "bal_acc: 0.998203231495366\n",
      "prec: 0.9980347538270583\n",
      "recall: 0.9985511745834627\n",
      "f1: 0.9982928974186539\n",
      "Testing\n",
      "bal_acc: 0.8179141461846944\n",
      "prec: 0.8116578793204452\n",
      "recall: 0.8549830299290343\n",
      "f1: 0.8327573253193088\n",
      "----------\n"
     ]
    },
    {
     "data": {
      "image/png": "[encoded data removed]",
      "text/plain": [
       "<Figure size 640x480 with 2 Axes>"
      ]
     },
     "metadata": {},
     "output_type": "display_data"
    }
   ],
   "source": [
    "# instantiating model\n",
    "logreg_model = LogisticRegression()\n",
    "\n",
    "# fitting model\n",
    "logreg_model.fit(Z_train_cvec, y_train)\n",
    "\n",
    "# evaluation\n",
    "train_report, train_scores, test_report, test_scores = score_me(logreg_model, Z_train_cvec, y_train, Z_test_cvec, y_test)"
   ]
  },
  {
   "cell_type": "code",
   "execution_count": 186,
   "metadata": {},
   "outputs": [],
   "source": [
    "# inserting values into score_df\n",
    "scores = [train_scores, test_scores]\n",
    "scores_label = [\"train\", \"test\"]\n",
    "for i in range(len(scores)):\n",
    "    temp_dict = {scores_df.columns[1:][j]: [scores[i][j]] for j in range(len(scores[i]))}\n",
    "    temp_dict[\"model\"] = f\"log_reg_{scores_label[i]}\"\n",
    "    temp_df = pd.DataFrame(temp_dict)\n",
    "    scores_df = pd.concat([scores_df, temp_df])"
   ]
  },
  {
   "attachments": {},
   "cell_type": "markdown",
   "metadata": {},
   "source": [
    "### Random Forest (GridSearch)"
   ]
  },
  {
   "cell_type": "code",
   "execution_count": 172,
   "metadata": {},
   "outputs": [
    {
     "name": "stdout",
     "output_type": "stream",
     "text": [
      "Fitting 3 folds for each of 81 candidates, totalling 243 fits\n",
      "{'max_depth': 3, 'min_samples_leaf': 2, 'min_samples_split': 5, 'n_estimators': 50}\n",
      "0.5455510717968305\n"
     ]
    }
   ],
   "source": [
    "# instantiating model\n",
    "rf_model = RandomForestClassifier()\n",
    "rf_params = {\n",
    "    \"n_estimators\": [50, 100, 150],\n",
    "    \"max_depth\": [1, 2, 3],\n",
    "    \"min_samples_leaf\": [1, 2, 4],\n",
    "    \"min_samples_split\": [2, 3, 5]\n",
    "}\n",
    "grid_rf_model = GridSearchCV(\n",
    "    estimator=rf_model,\n",
    "    param_grid=rf_params,\n",
    "    scoring=\"balanced_accuracy\",\n",
    "    cv=3,\n",
    "    verbose=1\n",
    ")\n",
    "\n",
    "# fitting model\n",
    "grid_rf_model.fit(Z_train_cvec, y_train)"
   ]
  },
  {
   "cell_type": "code",
   "execution_count": 175,
   "metadata": {},
   "outputs": [
    {
     "name": "stdout",
     "output_type": "stream",
     "text": [
      "{'max_depth': 3, 'min_samples_leaf': 2, 'min_samples_split': 5, 'n_estimators': 50}\n",
      "0.5455510717968305\n"
     ]
    }
   ],
   "source": [
    "# evaluation\n",
    "print(grid_rf_model.best_params_)\n",
    "print(grid_rf_model.best_score_)"
   ]
  },
  {
   "cell_type": "markdown",
   "metadata": {},
   "source": [
    "### Random Forest (Optimal)"
   ]
  },
  {
   "cell_type": "code",
   "execution_count": 176,
   "metadata": {},
   "outputs": [
    {
     "name": "stdout",
     "output_type": "stream",
     "text": [
      "RandomForestClassifier(max_depth=3, min_samples_leaf=2, min_samples_split=5,\n",
      "                       n_estimators=50)\n",
      "Training\n",
      "bal_acc: 0.5353641735984562\n",
      "prec: 0.5399843417962197\n",
      "recall: 0.9992755872917314\n",
      "f1: 0.7011072789980034\n",
      "Testing\n",
      "bal_acc: 0.5297330639490997\n",
      "prec: 0.5401435486563179\n",
      "recall: 0.9984572662758407\n",
      "f1: 0.7010398613518198\n",
      "----------\n"
     ]
    },
    {
     "data": {
      "image/png": "[encoded data removed]",
      "text/plain": [
       "<Figure size 640x480 with 2 Axes>"
      ]
     },
     "metadata": {},
     "output_type": "display_data"
    }
   ],
   "source": [
    "# instantiating model\n",
    "rf_model = RandomForestClassifier(\n",
    "    max_depth=3,\n",
    "    min_samples_leaf=2,\n",
    "    min_samples_split=5,\n",
    "    n_estimators=50\n",
    ")\n",
    "\n",
    "# fitting model\n",
    "rf_model.fit(Z_train_cvec, y_train)\n",
    "\n",
    "# evaluation\n",
    "train_report, train_scores, test_report, test_scores = score_me(rf_model, Z_train_cvec, y_train, Z_test_cvec, y_test)"
   ]
  },
  {
   "cell_type": "code",
   "execution_count": 184,
   "metadata": {},
   "outputs": [
    {
     "data": {
      "text/html": [
       "<div>\n",
       "<style scoped>\n",
       "    .dataframe tbody tr th:only-of-type {\n",
       "        vertical-align: middle;\n",
       "    }\n",
       "\n",
       "    .dataframe tbody tr th {\n",
       "        vertical-align: top;\n",
       "    }\n",
       "\n",
       "    .dataframe thead th {\n",
       "        text-align: right;\n",
       "    }\n",
       "</style>\n",
       "<table border=\"1\" class=\"dataframe\">\n",
       "  <thead>\n",
       "    <tr style=\"text-align: right;\">\n",
       "      <th></th>\n",
       "      <th>model</th>\n",
       "      <th>bal_acc</th>\n",
       "      <th>precision</th>\n",
       "      <th>recall</th>\n",
       "      <th>f1</th>\n",
       "    </tr>\n",
       "  </thead>\n",
       "  <tbody>\n",
       "    <tr>\n",
       "      <th>0</th>\n",
       "      <td>rf_train</td>\n",
       "      <td>0.535364</td>\n",
       "      <td>0.539984</td>\n",
       "      <td>0.999276</td>\n",
       "      <td>0.701107</td>\n",
       "    </tr>\n",
       "    <tr>\n",
       "      <th>0</th>\n",
       "      <td>rf_test</td>\n",
       "      <td>0.529733</td>\n",
       "      <td>0.540144</td>\n",
       "      <td>0.998457</td>\n",
       "      <td>0.701040</td>\n",
       "    </tr>\n",
       "  </tbody>\n",
       "</table>\n",
       "</div>"
      ],
      "text/plain": [
       "      model   bal_acc  precision    recall        f1\n",
       "0  rf_train  0.535364   0.539984  0.999276  0.701107\n",
       "0   rf_test  0.529733   0.540144  0.998457  0.701040"
      ]
     },
     "execution_count": 184,
     "metadata": {},
     "output_type": "execute_result"
    }
   ],
   "source": [
    "# inserting values into score_df\n",
    "scores = [train_scores, test_scores]\n",
    "scores_label = [\"train\", \"test\"]\n",
    "for i in range(len(scores)):\n",
    "    temp_dict = {scores_df.columns[1:][j]: [scores[i][j]] for j in range(len(scores[i]))}\n",
    "    temp_dict[\"model\"] = f\"rf_{scores_label[i]}\"\n",
    "    temp_df = pd.DataFrame(temp_dict)\n",
    "    scores_df = pd.concat([scores_df, temp_df])"
   ]
  },
  {
   "attachments": {},
   "cell_type": "markdown",
   "metadata": {},
   "source": [
    "### Stacking (w/ Decision Tree as Meta Learner)"
   ]
  },
  {
   "cell_type": "code",
   "execution_count": 192,
   "metadata": {},
   "outputs": [
    {
     "name": "stderr",
     "output_type": "stream",
     "text": [
      "c:\\Users\\chris\\anaconda3\\envs\\PythonData\\lib\\site-packages\\sklearn\\linear_model\\_logistic.py:814: ConvergenceWarning: lbfgs failed to converge (status=1):\n",
      "STOP: TOTAL NO. of ITERATIONS REACHED LIMIT.\n",
      "\n",
      "Increase the number of iterations (max_iter) or scale the data as shown in:\n",
      "    https://scikit-learn.org/stable/modules/preprocessing.html\n",
      "Please also refer to the documentation for alternative solver options:\n",
      "    https://scikit-learn.org/stable/modules/linear_model.html#logistic-regression\n",
      "  n_iter_i = _check_optimize_result(\n",
      "c:\\Users\\chris\\anaconda3\\envs\\PythonData\\lib\\site-packages\\sklearn\\linear_model\\_logistic.py:814: ConvergenceWarning: lbfgs failed to converge (status=1):\n",
      "STOP: TOTAL NO. of ITERATIONS REACHED LIMIT.\n",
      "\n",
      "Increase the number of iterations (max_iter) or scale the data as shown in:\n",
      "    https://scikit-learn.org/stable/modules/preprocessing.html\n",
      "Please also refer to the documentation for alternative solver options:\n",
      "    https://scikit-learn.org/stable/modules/linear_model.html#logistic-regression\n",
      "  n_iter_i = _check_optimize_result(\n",
      "c:\\Users\\chris\\anaconda3\\envs\\PythonData\\lib\\site-packages\\sklearn\\linear_model\\_logistic.py:814: ConvergenceWarning: lbfgs failed to converge (status=1):\n",
      "STOP: TOTAL NO. of ITERATIONS REACHED LIMIT.\n",
      "\n",
      "Increase the number of iterations (max_iter) or scale the data as shown in:\n",
      "    https://scikit-learn.org/stable/modules/preprocessing.html\n",
      "Please also refer to the documentation for alternative solver options:\n",
      "    https://scikit-learn.org/stable/modules/linear_model.html#logistic-regression\n",
      "  n_iter_i = _check_optimize_result(\n",
      "c:\\Users\\chris\\anaconda3\\envs\\PythonData\\lib\\site-packages\\sklearn\\linear_model\\_logistic.py:814: ConvergenceWarning: lbfgs failed to converge (status=1):\n",
      "STOP: TOTAL NO. of ITERATIONS REACHED LIMIT.\n",
      "\n",
      "Increase the number of iterations (max_iter) or scale the data as shown in:\n",
      "    https://scikit-learn.org/stable/modules/preprocessing.html\n",
      "Please also refer to the documentation for alternative solver options:\n",
      "    https://scikit-learn.org/stable/modules/linear_model.html#logistic-regression\n",
      "  n_iter_i = _check_optimize_result(\n",
      "c:\\Users\\chris\\anaconda3\\envs\\PythonData\\lib\\site-packages\\sklearn\\linear_model\\_logistic.py:814: ConvergenceWarning: lbfgs failed to converge (status=1):\n",
      "STOP: TOTAL NO. of ITERATIONS REACHED LIMIT.\n",
      "\n",
      "Increase the number of iterations (max_iter) or scale the data as shown in:\n",
      "    https://scikit-learn.org/stable/modules/preprocessing.html\n",
      "Please also refer to the documentation for alternative solver options:\n",
      "    https://scikit-learn.org/stable/modules/linear_model.html#logistic-regression\n",
      "  n_iter_i = _check_optimize_result(\n",
      "c:\\Users\\chris\\anaconda3\\envs\\PythonData\\lib\\site-packages\\sklearn\\linear_model\\_logistic.py:814: ConvergenceWarning: lbfgs failed to converge (status=1):\n",
      "STOP: TOTAL NO. of ITERATIONS REACHED LIMIT.\n",
      "\n",
      "Increase the number of iterations (max_iter) or scale the data as shown in:\n",
      "    https://scikit-learn.org/stable/modules/preprocessing.html\n",
      "Please also refer to the documentation for alternative solver options:\n",
      "    https://scikit-learn.org/stable/modules/linear_model.html#logistic-regression\n",
      "  n_iter_i = _check_optimize_result(\n"
     ]
    },
    {
     "name": "stdout",
     "output_type": "stream",
     "text": [
      "RandomForestClassifier(max_depth=3, min_samples_leaf=2, min_samples_split=5,\n",
      "                       n_estimators=50)\n",
      "Training\n",
      "bal_acc: 0.5353641735984562\n",
      "prec: 0.5399843417962197\n",
      "recall: 0.9992755872917314\n",
      "f1: 0.7011072789980034\n",
      "Testing\n",
      "bal_acc: 0.5297330639490997\n",
      "prec: 0.5401435486563179\n",
      "recall: 0.9984572662758407\n",
      "f1: 0.7010398613518198\n",
      "----------\n"
     ]
    },
    {
     "data": {
      "image/png": "[encoded data removed]",
      "text/plain": [
       "<Figure size 640x480 with 2 Axes>"
      ]
     },
     "metadata": {},
     "output_type": "display_data"
    }
   ],
   "source": [
    "# instantiating model\n",
    "estimators = [\n",
    "    ('logreg', LogisticRegression()),\n",
    "    ('rf', RandomForestClassifier(\n",
    "        max_depth=3,\n",
    "        min_samples_leaf=2,\n",
    "        min_samples_split=5,\n",
    "        n_estimators=50\n",
    "    ))\n",
    "]\n",
    "stacked_model = StackingClassifier(\n",
    "    estimators=estimators,\n",
    "    final_estimator=DecisionTreeClassifier()\n",
    ")\n",
    "\n",
    "# fitting model\n",
    "stacked_model.fit(Z_train_cvec, y_train)\n",
    "\n",
    "# evaluation\n",
    "train_report, train_scores, test_report, test_scores = score_me(rf_model, Z_train_cvec, y_train, Z_test_cvec, y_test)"
   ]
  },
  {
   "cell_type": "code",
   "execution_count": 193,
   "metadata": {},
   "outputs": [
    {
     "data": {
      "text/html": [
       "<div>\n",
       "<style scoped>\n",
       "    .dataframe tbody tr th:only-of-type {\n",
       "        vertical-align: middle;\n",
       "    }\n",
       "\n",
       "    .dataframe tbody tr th {\n",
       "        vertical-align: top;\n",
       "    }\n",
       "\n",
       "    .dataframe thead th {\n",
       "        text-align: right;\n",
       "    }\n",
       "</style>\n",
       "<table border=\"1\" class=\"dataframe\">\n",
       "  <thead>\n",
       "    <tr style=\"text-align: right;\">\n",
       "      <th></th>\n",
       "      <th>model</th>\n",
       "      <th>bal_acc</th>\n",
       "      <th>precision</th>\n",
       "      <th>recall</th>\n",
       "      <th>f1</th>\n",
       "    </tr>\n",
       "  </thead>\n",
       "  <tbody>\n",
       "    <tr>\n",
       "      <th>0</th>\n",
       "      <td>rf_train</td>\n",
       "      <td>0.535364</td>\n",
       "      <td>0.539984</td>\n",
       "      <td>0.999276</td>\n",
       "      <td>0.701107</td>\n",
       "    </tr>\n",
       "    <tr>\n",
       "      <th>0</th>\n",
       "      <td>rf_test</td>\n",
       "      <td>0.529733</td>\n",
       "      <td>0.540144</td>\n",
       "      <td>0.998457</td>\n",
       "      <td>0.701040</td>\n",
       "    </tr>\n",
       "    <tr>\n",
       "      <th>0</th>\n",
       "      <td>log_reg_train</td>\n",
       "      <td>0.998203</td>\n",
       "      <td>0.998035</td>\n",
       "      <td>0.998551</td>\n",
       "      <td>0.998293</td>\n",
       "    </tr>\n",
       "    <tr>\n",
       "      <th>0</th>\n",
       "      <td>log_reg_test</td>\n",
       "      <td>0.817914</td>\n",
       "      <td>0.811658</td>\n",
       "      <td>0.854983</td>\n",
       "      <td>0.832757</td>\n",
       "    </tr>\n",
       "    <tr>\n",
       "      <th>0</th>\n",
       "      <td>stacking_train</td>\n",
       "      <td>0.535364</td>\n",
       "      <td>0.539984</td>\n",
       "      <td>0.999276</td>\n",
       "      <td>0.701107</td>\n",
       "    </tr>\n",
       "    <tr>\n",
       "      <th>0</th>\n",
       "      <td>stacking_test</td>\n",
       "      <td>0.529733</td>\n",
       "      <td>0.540144</td>\n",
       "      <td>0.998457</td>\n",
       "      <td>0.701040</td>\n",
       "    </tr>\n",
       "  </tbody>\n",
       "</table>\n",
       "</div>"
      ],
      "text/plain": [
       "            model   bal_acc  precision    recall        f1\n",
       "0        rf_train  0.535364   0.539984  0.999276  0.701107\n",
       "0         rf_test  0.529733   0.540144  0.998457  0.701040\n",
       "0   log_reg_train  0.998203   0.998035  0.998551  0.998293\n",
       "0    log_reg_test  0.817914   0.811658  0.854983  0.832757\n",
       "0  stacking_train  0.535364   0.539984  0.999276  0.701107\n",
       "0   stacking_test  0.529733   0.540144  0.998457  0.701040"
      ]
     },
     "execution_count": 193,
     "metadata": {},
     "output_type": "execute_result"
    }
   ],
   "source": [
    "# inserting values into score_df\n",
    "scores = [train_scores, test_scores]\n",
    "scores_label = [\"train\", \"test\"]\n",
    "for i in range(len(scores)):\n",
    "    temp_dict = {scores_df.columns[1:][j]: [scores[i][j]] for j in range(len(scores[i]))}\n",
    "    temp_dict[\"model\"] = f\"stacking_{scores_label[i]}\"\n",
    "    temp_df = pd.DataFrame(temp_dict)\n",
    "    scores_df = pd.concat([scores_df, temp_df])\n",
    "scores_df"
   ]
  },
  {
   "attachments": {},
   "cell_type": "markdown",
   "metadata": {},
   "source": [
    "## <font color='green'>Fitting on TFIDF</font>"
   ]
  },
  {
   "cell_type": "markdown",
   "metadata": {},
   "source": [
    "### Logistic Regression"
   ]
  },
  {
   "cell_type": "code",
   "execution_count": 201,
   "metadata": {},
   "outputs": [
    {
     "name": "stderr",
     "output_type": "stream",
     "text": [
      "c:\\Users\\chris\\anaconda3\\envs\\PythonData\\lib\\site-packages\\sklearn\\linear_model\\_logistic.py:814: ConvergenceWarning: lbfgs failed to converge (status=1):\n",
      "STOP: TOTAL NO. of ITERATIONS REACHED LIMIT.\n",
      "\n",
      "Increase the number of iterations (max_iter) or scale the data as shown in:\n",
      "    https://scikit-learn.org/stable/modules/preprocessing.html\n",
      "Please also refer to the documentation for alternative solver options:\n",
      "    https://scikit-learn.org/stable/modules/linear_model.html#logistic-regression\n",
      "  n_iter_i = _check_optimize_result(\n"
     ]
    },
    {
     "name": "stdout",
     "output_type": "stream",
     "text": [
      "LogisticRegression()\n",
      "Training\n",
      "bal_acc: 0.9986359656698957\n",
      "prec: 0.9984484898634671\n",
      "recall: 0.9989651247024733\n",
      "f1: 0.9987067404686772\n",
      "Testing\n",
      "bal_acc: 0.8160933102564766\n",
      "prec: 0.8147706968433591\n",
      "recall: 0.8441838938599198\n",
      "f1: 0.8292165479618124\n",
      "----------\n"
     ]
    },
    {
     "data": {
      "image/png": "[encoded data removed]",
      "text/plain": [
       "<Figure size 640x480 with 2 Axes>"
      ]
     },
     "metadata": {},
     "output_type": "display_data"
    }
   ],
   "source": [
    "# instantiating model\n",
    "logreg_model = LogisticRegression()\n",
    "\n",
    "# fitting model\n",
    "logreg_model.fit(Z_train_tfidf, y_train)\n",
    "\n",
    "# evaluation\n",
    "train_report, train_scores, test_report, test_scores = score_me(logreg_model, Z_train_tfidf, y_train, Z_test_tfidf, y_test)"
   ]
  },
  {
   "cell_type": "code",
   "execution_count": 202,
   "metadata": {},
   "outputs": [
    {
     "data": {
      "text/html": [
       "<div>\n",
       "<style scoped>\n",
       "    .dataframe tbody tr th:only-of-type {\n",
       "        vertical-align: middle;\n",
       "    }\n",
       "\n",
       "    .dataframe tbody tr th {\n",
       "        vertical-align: top;\n",
       "    }\n",
       "\n",
       "    .dataframe thead th {\n",
       "        text-align: right;\n",
       "    }\n",
       "</style>\n",
       "<table border=\"1\" class=\"dataframe\">\n",
       "  <thead>\n",
       "    <tr style=\"text-align: right;\">\n",
       "      <th></th>\n",
       "      <th>model</th>\n",
       "      <th>bal_acc</th>\n",
       "      <th>precision</th>\n",
       "      <th>recall</th>\n",
       "      <th>f1</th>\n",
       "    </tr>\n",
       "  </thead>\n",
       "  <tbody>\n",
       "    <tr>\n",
       "      <th>0</th>\n",
       "      <td>log_reg_train</td>\n",
       "      <td>0.998636</td>\n",
       "      <td>0.998448</td>\n",
       "      <td>0.998965</td>\n",
       "      <td>0.998707</td>\n",
       "    </tr>\n",
       "    <tr>\n",
       "      <th>0</th>\n",
       "      <td>log_reg_test</td>\n",
       "      <td>0.816093</td>\n",
       "      <td>0.814771</td>\n",
       "      <td>0.844184</td>\n",
       "      <td>0.829217</td>\n",
       "    </tr>\n",
       "  </tbody>\n",
       "</table>\n",
       "</div>"
      ],
      "text/plain": [
       "           model   bal_acc  precision    recall        f1\n",
       "0  log_reg_train  0.998636   0.998448  0.998965  0.998707\n",
       "0   log_reg_test  0.816093   0.814771  0.844184  0.829217"
      ]
     },
     "execution_count": 202,
     "metadata": {},
     "output_type": "execute_result"
    }
   ],
   "source": [
    "# inserting values into score_df\n",
    "scores = [train_scores, test_scores]\n",
    "scores_label = [\"train\", \"test\"]\n",
    "for i in range(len(scores)):\n",
    "    temp_dict = {scores_df.columns[1:][j]: [scores[i][j]] for j in range(len(scores[i]))}\n",
    "    temp_dict[\"model\"] = f\"log_reg_{scores_label[i]}\"\n",
    "    temp_df = pd.DataFrame(temp_dict)\n",
    "    scores_2_df = pd.concat([scores_2_df, temp_df])\n",
    "scores_2_df"
   ]
  },
  {
   "cell_type": "markdown",
   "metadata": {},
   "source": [
    "### Random Forest (Optimal)"
   ]
  },
  {
   "cell_type": "code",
   "execution_count": 203,
   "metadata": {},
   "outputs": [
    {
     "name": "stdout",
     "output_type": "stream",
     "text": [
      "RandomForestClassifier(max_depth=3, min_samples_leaf=2, min_samples_split=5,\n",
      "                       n_estimators=50)\n",
      "Training\n",
      "bal_acc: 0.544859881634517\n",
      "prec: 0.5452123136232213\n",
      "recall: 0.9952395736313774\n",
      "f1: 0.7044905135154934\n",
      "Testing\n",
      "bal_acc: 0.5424729737659549\n",
      "prec: 0.547025927808846\n",
      "recall: 0.995988892317186\n",
      "f1: 0.7061912054255086\n",
      "----------\n"
     ]
    },
    {
     "data": {
      "image/png": "[encoded data removed]",
      "text/plain": [
       "<Figure size 640x480 with 2 Axes>"
      ]
     },
     "metadata": {},
     "output_type": "display_data"
    }
   ],
   "source": [
    "# instantiating model\n",
    "rf_model = RandomForestClassifier(\n",
    "    max_depth=3,\n",
    "    min_samples_leaf=2,\n",
    "    min_samples_split=5,\n",
    "    n_estimators=50\n",
    ")\n",
    "\n",
    "# fitting model\n",
    "rf_model.fit(Z_train_tfidf, y_train)\n",
    "\n",
    "# evaluation\n",
    "train_report, train_scores, test_report, test_scores = score_me(rf_model, Z_train_tfidf, y_train, Z_test_tfidf, y_test)"
   ]
  },
  {
   "cell_type": "code",
   "execution_count": 204,
   "metadata": {},
   "outputs": [
    {
     "data": {
      "text/html": [
       "<div>\n",
       "<style scoped>\n",
       "    .dataframe tbody tr th:only-of-type {\n",
       "        vertical-align: middle;\n",
       "    }\n",
       "\n",
       "    .dataframe tbody tr th {\n",
       "        vertical-align: top;\n",
       "    }\n",
       "\n",
       "    .dataframe thead th {\n",
       "        text-align: right;\n",
       "    }\n",
       "</style>\n",
       "<table border=\"1\" class=\"dataframe\">\n",
       "  <thead>\n",
       "    <tr style=\"text-align: right;\">\n",
       "      <th></th>\n",
       "      <th>model</th>\n",
       "      <th>bal_acc</th>\n",
       "      <th>precision</th>\n",
       "      <th>recall</th>\n",
       "      <th>f1</th>\n",
       "    </tr>\n",
       "  </thead>\n",
       "  <tbody>\n",
       "    <tr>\n",
       "      <th>0</th>\n",
       "      <td>log_reg_train</td>\n",
       "      <td>0.998636</td>\n",
       "      <td>0.998448</td>\n",
       "      <td>0.998965</td>\n",
       "      <td>0.998707</td>\n",
       "    </tr>\n",
       "    <tr>\n",
       "      <th>0</th>\n",
       "      <td>log_reg_test</td>\n",
       "      <td>0.816093</td>\n",
       "      <td>0.814771</td>\n",
       "      <td>0.844184</td>\n",
       "      <td>0.829217</td>\n",
       "    </tr>\n",
       "    <tr>\n",
       "      <th>0</th>\n",
       "      <td>rf_train</td>\n",
       "      <td>0.544860</td>\n",
       "      <td>0.545212</td>\n",
       "      <td>0.995240</td>\n",
       "      <td>0.704491</td>\n",
       "    </tr>\n",
       "    <tr>\n",
       "      <th>0</th>\n",
       "      <td>rf_test</td>\n",
       "      <td>0.542473</td>\n",
       "      <td>0.547026</td>\n",
       "      <td>0.995989</td>\n",
       "      <td>0.706191</td>\n",
       "    </tr>\n",
       "  </tbody>\n",
       "</table>\n",
       "</div>"
      ],
      "text/plain": [
       "           model   bal_acc  precision    recall        f1\n",
       "0  log_reg_train  0.998636   0.998448  0.998965  0.998707\n",
       "0   log_reg_test  0.816093   0.814771  0.844184  0.829217\n",
       "0       rf_train  0.544860   0.545212  0.995240  0.704491\n",
       "0        rf_test  0.542473   0.547026  0.995989  0.706191"
      ]
     },
     "execution_count": 204,
     "metadata": {},
     "output_type": "execute_result"
    }
   ],
   "source": [
    "# inserting values into score_df\n",
    "scores = [train_scores, test_scores]\n",
    "scores_label = [\"train\", \"test\"]\n",
    "for i in range(len(scores)):\n",
    "    temp_dict = {scores_df.columns[1:][j]: [scores[i][j]] for j in range(len(scores[i]))}\n",
    "    temp_dict[\"model\"] = f\"rf_{scores_label[i]}\"\n",
    "    temp_df = pd.DataFrame(temp_dict)\n",
    "    scores_2_df = pd.concat([scores_2_df, temp_df])\n",
    "scores_2_df"
   ]
  },
  {
   "cell_type": "markdown",
   "metadata": {},
   "source": [
    "### Stacking (w/ Decision Tree as Meta Learner)"
   ]
  },
  {
   "cell_type": "code",
   "execution_count": 205,
   "metadata": {},
   "outputs": [
    {
     "name": "stderr",
     "output_type": "stream",
     "text": [
      "c:\\Users\\chris\\anaconda3\\envs\\PythonData\\lib\\site-packages\\sklearn\\linear_model\\_logistic.py:814: ConvergenceWarning: lbfgs failed to converge (status=1):\n",
      "STOP: TOTAL NO. of ITERATIONS REACHED LIMIT.\n",
      "\n",
      "Increase the number of iterations (max_iter) or scale the data as shown in:\n",
      "    https://scikit-learn.org/stable/modules/preprocessing.html\n",
      "Please also refer to the documentation for alternative solver options:\n",
      "    https://scikit-learn.org/stable/modules/linear_model.html#logistic-regression\n",
      "  n_iter_i = _check_optimize_result(\n",
      "c:\\Users\\chris\\anaconda3\\envs\\PythonData\\lib\\site-packages\\sklearn\\linear_model\\_logistic.py:814: ConvergenceWarning: lbfgs failed to converge (status=1):\n",
      "STOP: TOTAL NO. of ITERATIONS REACHED LIMIT.\n",
      "\n",
      "Increase the number of iterations (max_iter) or scale the data as shown in:\n",
      "    https://scikit-learn.org/stable/modules/preprocessing.html\n",
      "Please also refer to the documentation for alternative solver options:\n",
      "    https://scikit-learn.org/stable/modules/linear_model.html#logistic-regression\n",
      "  n_iter_i = _check_optimize_result(\n",
      "c:\\Users\\chris\\anaconda3\\envs\\PythonData\\lib\\site-packages\\sklearn\\linear_model\\_logistic.py:814: ConvergenceWarning: lbfgs failed to converge (status=1):\n",
      "STOP: TOTAL NO. of ITERATIONS REACHED LIMIT.\n",
      "\n",
      "Increase the number of iterations (max_iter) or scale the data as shown in:\n",
      "    https://scikit-learn.org/stable/modules/preprocessing.html\n",
      "Please also refer to the documentation for alternative solver options:\n",
      "    https://scikit-learn.org/stable/modules/linear_model.html#logistic-regression\n",
      "  n_iter_i = _check_optimize_result(\n",
      "c:\\Users\\chris\\anaconda3\\envs\\PythonData\\lib\\site-packages\\sklearn\\linear_model\\_logistic.py:814: ConvergenceWarning: lbfgs failed to converge (status=1):\n",
      "STOP: TOTAL NO. of ITERATIONS REACHED LIMIT.\n",
      "\n",
      "Increase the number of iterations (max_iter) or scale the data as shown in:\n",
      "    https://scikit-learn.org/stable/modules/preprocessing.html\n",
      "Please also refer to the documentation for alternative solver options:\n",
      "    https://scikit-learn.org/stable/modules/linear_model.html#logistic-regression\n",
      "  n_iter_i = _check_optimize_result(\n",
      "c:\\Users\\chris\\anaconda3\\envs\\PythonData\\lib\\site-packages\\sklearn\\linear_model\\_logistic.py:814: ConvergenceWarning: lbfgs failed to converge (status=1):\n",
      "STOP: TOTAL NO. of ITERATIONS REACHED LIMIT.\n",
      "\n",
      "Increase the number of iterations (max_iter) or scale the data as shown in:\n",
      "    https://scikit-learn.org/stable/modules/preprocessing.html\n",
      "Please also refer to the documentation for alternative solver options:\n",
      "    https://scikit-learn.org/stable/modules/linear_model.html#logistic-regression\n",
      "  n_iter_i = _check_optimize_result(\n",
      "c:\\Users\\chris\\anaconda3\\envs\\PythonData\\lib\\site-packages\\sklearn\\linear_model\\_logistic.py:814: ConvergenceWarning: lbfgs failed to converge (status=1):\n",
      "STOP: TOTAL NO. of ITERATIONS REACHED LIMIT.\n",
      "\n",
      "Increase the number of iterations (max_iter) or scale the data as shown in:\n",
      "    https://scikit-learn.org/stable/modules/preprocessing.html\n",
      "Please also refer to the documentation for alternative solver options:\n",
      "    https://scikit-learn.org/stable/modules/linear_model.html#logistic-regression\n",
      "  n_iter_i = _check_optimize_result(\n"
     ]
    },
    {
     "name": "stdout",
     "output_type": "stream",
     "text": [
      "RandomForestClassifier(max_depth=3, min_samples_leaf=2, min_samples_split=5,\n",
      "                       n_estimators=50)\n",
      "Training\n",
      "bal_acc: 0.544859881634517\n",
      "prec: 0.5452123136232213\n",
      "recall: 0.9952395736313774\n",
      "f1: 0.7044905135154934\n",
      "Testing\n",
      "bal_acc: 0.5424729737659549\n",
      "prec: 0.547025927808846\n",
      "recall: 0.995988892317186\n",
      "f1: 0.7061912054255086\n",
      "----------\n"
     ]
    },
    {
     "data": {
      "image/png": "[encoded data removed]",
      "text/plain": [
       "<Figure size 640x480 with 2 Axes>"
      ]
     },
     "metadata": {},
     "output_type": "display_data"
    }
   ],
   "source": [
    "# instantiating model\n",
    "estimators = [\n",
    "    ('logreg', LogisticRegression()),\n",
    "    ('rf', RandomForestClassifier(\n",
    "        max_depth=3,\n",
    "        min_samples_leaf=2,\n",
    "        min_samples_split=5,\n",
    "        n_estimators=50\n",
    "    ))\n",
    "]\n",
    "stacked_model = StackingClassifier(\n",
    "    estimators=estimators,\n",
    "    final_estimator=DecisionTreeClassifier()\n",
    ")\n",
    "\n",
    "# fitting model\n",
    "stacked_model.fit(Z_train_tfidf, y_train)\n",
    "\n",
    "# evaluation\n",
    "train_report, train_scores, test_report, test_scores = score_me(rf_model, Z_train_tfidf, y_train, Z_test_tfidf, y_test)"
   ]
  },
  {
   "cell_type": "code",
   "execution_count": 206,
   "metadata": {},
   "outputs": [
    {
     "data": {
      "text/html": [
       "<div>\n",
       "<style scoped>\n",
       "    .dataframe tbody tr th:only-of-type {\n",
       "        vertical-align: middle;\n",
       "    }\n",
       "\n",
       "    .dataframe tbody tr th {\n",
       "        vertical-align: top;\n",
       "    }\n",
       "\n",
       "    .dataframe thead th {\n",
       "        text-align: right;\n",
       "    }\n",
       "</style>\n",
       "<table border=\"1\" class=\"dataframe\">\n",
       "  <thead>\n",
       "    <tr style=\"text-align: right;\">\n",
       "      <th></th>\n",
       "      <th>model</th>\n",
       "      <th>bal_acc</th>\n",
       "      <th>precision</th>\n",
       "      <th>recall</th>\n",
       "      <th>f1</th>\n",
       "    </tr>\n",
       "  </thead>\n",
       "  <tbody>\n",
       "    <tr>\n",
       "      <th>0</th>\n",
       "      <td>log_reg_train</td>\n",
       "      <td>0.998636</td>\n",
       "      <td>0.998448</td>\n",
       "      <td>0.998965</td>\n",
       "      <td>0.998707</td>\n",
       "    </tr>\n",
       "    <tr>\n",
       "      <th>0</th>\n",
       "      <td>log_reg_test</td>\n",
       "      <td>0.816093</td>\n",
       "      <td>0.814771</td>\n",
       "      <td>0.844184</td>\n",
       "      <td>0.829217</td>\n",
       "    </tr>\n",
       "    <tr>\n",
       "      <th>0</th>\n",
       "      <td>rf_train</td>\n",
       "      <td>0.544860</td>\n",
       "      <td>0.545212</td>\n",
       "      <td>0.995240</td>\n",
       "      <td>0.704491</td>\n",
       "    </tr>\n",
       "    <tr>\n",
       "      <th>0</th>\n",
       "      <td>rf_test</td>\n",
       "      <td>0.542473</td>\n",
       "      <td>0.547026</td>\n",
       "      <td>0.995989</td>\n",
       "      <td>0.706191</td>\n",
       "    </tr>\n",
       "    <tr>\n",
       "      <th>0</th>\n",
       "      <td>stacking_train</td>\n",
       "      <td>0.544860</td>\n",
       "      <td>0.545212</td>\n",
       "      <td>0.995240</td>\n",
       "      <td>0.704491</td>\n",
       "    </tr>\n",
       "    <tr>\n",
       "      <th>0</th>\n",
       "      <td>stacking_test</td>\n",
       "      <td>0.542473</td>\n",
       "      <td>0.547026</td>\n",
       "      <td>0.995989</td>\n",
       "      <td>0.706191</td>\n",
       "    </tr>\n",
       "  </tbody>\n",
       "</table>\n",
       "</div>"
      ],
      "text/plain": [
       "            model   bal_acc  precision    recall        f1\n",
       "0   log_reg_train  0.998636   0.998448  0.998965  0.998707\n",
       "0    log_reg_test  0.816093   0.814771  0.844184  0.829217\n",
       "0        rf_train  0.544860   0.545212  0.995240  0.704491\n",
       "0         rf_test  0.542473   0.547026  0.995989  0.706191\n",
       "0  stacking_train  0.544860   0.545212  0.995240  0.704491\n",
       "0   stacking_test  0.542473   0.547026  0.995989  0.706191"
      ]
     },
     "execution_count": 206,
     "metadata": {},
     "output_type": "execute_result"
    }
   ],
   "source": [
    "# inserting values into score_df\n",
    "scores = [train_scores, test_scores]\n",
    "scores_label = [\"train\", \"test\"]\n",
    "for i in range(len(scores)):\n",
    "    temp_dict = {scores_df.columns[1:][j]: [scores[i][j]] for j in range(len(scores[i]))}\n",
    "    temp_dict[\"model\"] = f\"stacking_{scores_label[i]}\"\n",
    "    temp_df = pd.DataFrame(temp_dict)\n",
    "    scores_2_df = pd.concat([scores_2_df, temp_df])\n",
    "scores_2_df"
   ]
  },
  {
   "attachments": {},
   "cell_type": "markdown",
   "metadata": {},
   "source": [
    "## <font color='green'>Evaluating</font>"
   ]
  },
  {
   "cell_type": "markdown",
   "metadata": {},
   "source": [
    "### Scores Recap"
   ]
  },
  {
   "cell_type": "code",
   "execution_count": 215,
   "metadata": {},
   "outputs": [
    {
     "data": {
      "text/html": [
       "<div>\n",
       "<style scoped>\n",
       "    .dataframe tbody tr th:only-of-type {\n",
       "        vertical-align: middle;\n",
       "    }\n",
       "\n",
       "    .dataframe tbody tr th {\n",
       "        vertical-align: top;\n",
       "    }\n",
       "\n",
       "    .dataframe thead th {\n",
       "        text-align: right;\n",
       "    }\n",
       "</style>\n",
       "<table border=\"1\" class=\"dataframe\">\n",
       "  <thead>\n",
       "    <tr style=\"text-align: right;\">\n",
       "      <th></th>\n",
       "      <th>model</th>\n",
       "      <th>bal_acc</th>\n",
       "      <th>precision</th>\n",
       "      <th>recall</th>\n",
       "      <th>f1</th>\n",
       "    </tr>\n",
       "  </thead>\n",
       "  <tbody>\n",
       "    <tr>\n",
       "      <th>0</th>\n",
       "      <td>rf_train</td>\n",
       "      <td>0.535364</td>\n",
       "      <td>0.539984</td>\n",
       "      <td>0.999276</td>\n",
       "      <td>0.701107</td>\n",
       "    </tr>\n",
       "    <tr>\n",
       "      <th>1</th>\n",
       "      <td>rf_test</td>\n",
       "      <td>0.529733</td>\n",
       "      <td>0.540144</td>\n",
       "      <td>0.998457</td>\n",
       "      <td>0.701040</td>\n",
       "    </tr>\n",
       "    <tr>\n",
       "      <th>2</th>\n",
       "      <td>log_reg_train</td>\n",
       "      <td>0.998203</td>\n",
       "      <td>0.998035</td>\n",
       "      <td>0.998551</td>\n",
       "      <td>0.998293</td>\n",
       "    </tr>\n",
       "    <tr>\n",
       "      <th>3</th>\n",
       "      <td>log_reg_test</td>\n",
       "      <td>0.817914</td>\n",
       "      <td>0.811658</td>\n",
       "      <td>0.854983</td>\n",
       "      <td>0.832757</td>\n",
       "    </tr>\n",
       "    <tr>\n",
       "      <th>4</th>\n",
       "      <td>stacking_train</td>\n",
       "      <td>0.535364</td>\n",
       "      <td>0.539984</td>\n",
       "      <td>0.999276</td>\n",
       "      <td>0.701107</td>\n",
       "    </tr>\n",
       "    <tr>\n",
       "      <th>5</th>\n",
       "      <td>stacking_test</td>\n",
       "      <td>0.529733</td>\n",
       "      <td>0.540144</td>\n",
       "      <td>0.998457</td>\n",
       "      <td>0.701040</td>\n",
       "    </tr>\n",
       "  </tbody>\n",
       "</table>\n",
       "</div>"
      ],
      "text/plain": [
       "            model   bal_acc  precision    recall        f1\n",
       "0        rf_train  0.535364   0.539984  0.999276  0.701107\n",
       "1         rf_test  0.529733   0.540144  0.998457  0.701040\n",
       "2   log_reg_train  0.998203   0.998035  0.998551  0.998293\n",
       "3    log_reg_test  0.817914   0.811658  0.854983  0.832757\n",
       "4  stacking_train  0.535364   0.539984  0.999276  0.701107\n",
       "5   stacking_test  0.529733   0.540144  0.998457  0.701040"
      ]
     },
     "execution_count": 215,
     "metadata": {},
     "output_type": "execute_result"
    }
   ],
   "source": [
    "scores_df = scores_df.reset_index(drop=True)\n",
    "scores_df"
   ]
  },
  {
   "cell_type": "code",
   "execution_count": 216,
   "metadata": {},
   "outputs": [
    {
     "data": {
      "text/html": [
       "<div>\n",
       "<style scoped>\n",
       "    .dataframe tbody tr th:only-of-type {\n",
       "        vertical-align: middle;\n",
       "    }\n",
       "\n",
       "    .dataframe tbody tr th {\n",
       "        vertical-align: top;\n",
       "    }\n",
       "\n",
       "    .dataframe thead th {\n",
       "        text-align: right;\n",
       "    }\n",
       "</style>\n",
       "<table border=\"1\" class=\"dataframe\">\n",
       "  <thead>\n",
       "    <tr style=\"text-align: right;\">\n",
       "      <th></th>\n",
       "      <th>model</th>\n",
       "      <th>bal_acc</th>\n",
       "      <th>precision</th>\n",
       "      <th>recall</th>\n",
       "      <th>f1</th>\n",
       "    </tr>\n",
       "  </thead>\n",
       "  <tbody>\n",
       "    <tr>\n",
       "      <th>0</th>\n",
       "      <td>log_reg_train</td>\n",
       "      <td>0.998636</td>\n",
       "      <td>0.998448</td>\n",
       "      <td>0.998965</td>\n",
       "      <td>0.998707</td>\n",
       "    </tr>\n",
       "    <tr>\n",
       "      <th>1</th>\n",
       "      <td>log_reg_test</td>\n",
       "      <td>0.816093</td>\n",
       "      <td>0.814771</td>\n",
       "      <td>0.844184</td>\n",
       "      <td>0.829217</td>\n",
       "    </tr>\n",
       "    <tr>\n",
       "      <th>2</th>\n",
       "      <td>rf_train</td>\n",
       "      <td>0.544860</td>\n",
       "      <td>0.545212</td>\n",
       "      <td>0.995240</td>\n",
       "      <td>0.704491</td>\n",
       "    </tr>\n",
       "    <tr>\n",
       "      <th>3</th>\n",
       "      <td>rf_test</td>\n",
       "      <td>0.542473</td>\n",
       "      <td>0.547026</td>\n",
       "      <td>0.995989</td>\n",
       "      <td>0.706191</td>\n",
       "    </tr>\n",
       "    <tr>\n",
       "      <th>4</th>\n",
       "      <td>stacking_train</td>\n",
       "      <td>0.544860</td>\n",
       "      <td>0.545212</td>\n",
       "      <td>0.995240</td>\n",
       "      <td>0.704491</td>\n",
       "    </tr>\n",
       "    <tr>\n",
       "      <th>5</th>\n",
       "      <td>stacking_test</td>\n",
       "      <td>0.542473</td>\n",
       "      <td>0.547026</td>\n",
       "      <td>0.995989</td>\n",
       "      <td>0.706191</td>\n",
       "    </tr>\n",
       "  </tbody>\n",
       "</table>\n",
       "</div>"
      ],
      "text/plain": [
       "            model   bal_acc  precision    recall        f1\n",
       "0   log_reg_train  0.998636   0.998448  0.998965  0.998707\n",
       "1    log_reg_test  0.816093   0.814771  0.844184  0.829217\n",
       "2        rf_train  0.544860   0.545212  0.995240  0.704491\n",
       "3         rf_test  0.542473   0.547026  0.995989  0.706191\n",
       "4  stacking_train  0.544860   0.545212  0.995240  0.704491\n",
       "5   stacking_test  0.542473   0.547026  0.995989  0.706191"
      ]
     },
     "execution_count": 216,
     "metadata": {},
     "output_type": "execute_result"
    }
   ],
   "source": [
    "scores_2_df = scores_2_df.reset_index(drop=True)\n",
    "scores_2_df"
   ]
  },
  {
   "attachments": {},
   "cell_type": "markdown",
   "metadata": {},
   "source": [
    "Foreword: the positive feature was \"AskReddit\" and the negative feature was \"AskScience\".\n",
    "\n",
    "From the model results, we see that the logistic regression is actually the best model in both cases of the cvec and tfidf data.\n",
    "\n",
    "Random forest is slightly overfit, but overall had very weak results when trying to predict the negative class (seen in the near perfect recall score but terrible precision score).\n",
    "\n",
    "Logisitic regression was much more overfit, but when comparing the true pos/neg rates, it had a relatively equal performance both ways.\n",
    "\n",
    "Due to the lower performance of the RF, the stacking model suffered in suit."
   ]
  },
  {
   "attachments": {},
   "cell_type": "markdown",
   "metadata": {},
   "source": [
    "## <font color='green'>Supplementary Graphing</font>"
   ]
  },
  {
   "cell_type": "code",
   "execution_count": 225,
   "metadata": {},
   "outputs": [],
   "source": [
    "# graphing results\n",
    "cvec_data = scores_df.iloc[[1,3,5], :].reset_index(drop=True)\n",
    "tfidf_data = scores_2_df.iloc[[1,3,5], :].reset_index(drop=True)"
   ]
  },
  {
   "cell_type": "code",
   "execution_count": 226,
   "metadata": {},
   "outputs": [
    {
     "data": {
      "text/html": [
       "<div>\n",
       "<style scoped>\n",
       "    .dataframe tbody tr th:only-of-type {\n",
       "        vertical-align: middle;\n",
       "    }\n",
       "\n",
       "    .dataframe tbody tr th {\n",
       "        vertical-align: top;\n",
       "    }\n",
       "\n",
       "    .dataframe thead th {\n",
       "        text-align: right;\n",
       "    }\n",
       "</style>\n",
       "<table border=\"1\" class=\"dataframe\">\n",
       "  <thead>\n",
       "    <tr style=\"text-align: right;\">\n",
       "      <th></th>\n",
       "      <th>model</th>\n",
       "      <th>bal_acc</th>\n",
       "      <th>precision</th>\n",
       "      <th>recall</th>\n",
       "      <th>f1</th>\n",
       "    </tr>\n",
       "  </thead>\n",
       "  <tbody>\n",
       "    <tr>\n",
       "      <th>0</th>\n",
       "      <td>log_reg_test</td>\n",
       "      <td>0.816093</td>\n",
       "      <td>0.814771</td>\n",
       "      <td>0.844184</td>\n",
       "      <td>0.829217</td>\n",
       "    </tr>\n",
       "    <tr>\n",
       "      <th>1</th>\n",
       "      <td>rf_test</td>\n",
       "      <td>0.542473</td>\n",
       "      <td>0.547026</td>\n",
       "      <td>0.995989</td>\n",
       "      <td>0.706191</td>\n",
       "    </tr>\n",
       "    <tr>\n",
       "      <th>2</th>\n",
       "      <td>stacking_test</td>\n",
       "      <td>0.542473</td>\n",
       "      <td>0.547026</td>\n",
       "      <td>0.995989</td>\n",
       "      <td>0.706191</td>\n",
       "    </tr>\n",
       "  </tbody>\n",
       "</table>\n",
       "</div>"
      ],
      "text/plain": [
       "           model   bal_acc  precision    recall        f1\n",
       "0   log_reg_test  0.816093   0.814771  0.844184  0.829217\n",
       "1        rf_test  0.542473   0.547026  0.995989  0.706191\n",
       "2  stacking_test  0.542473   0.547026  0.995989  0.706191"
      ]
     },
     "execution_count": 226,
     "metadata": {},
     "output_type": "execute_result"
    }
   ],
   "source": [
    "tfidf_data"
   ]
  },
  {
   "cell_type": "code",
   "execution_count": 227,
   "metadata": {},
   "outputs": [
    {
     "data": {
      "text/html": [
       "<div>\n",
       "<style scoped>\n",
       "    .dataframe tbody tr th:only-of-type {\n",
       "        vertical-align: middle;\n",
       "    }\n",
       "\n",
       "    .dataframe tbody tr th {\n",
       "        vertical-align: top;\n",
       "    }\n",
       "\n",
       "    .dataframe thead th {\n",
       "        text-align: right;\n",
       "    }\n",
       "</style>\n",
       "<table border=\"1\" class=\"dataframe\">\n",
       "  <thead>\n",
       "    <tr style=\"text-align: right;\">\n",
       "      <th></th>\n",
       "      <th>model</th>\n",
       "      <th>bal_acc</th>\n",
       "      <th>precision</th>\n",
       "      <th>recall</th>\n",
       "      <th>f1</th>\n",
       "    </tr>\n",
       "  </thead>\n",
       "  <tbody>\n",
       "    <tr>\n",
       "      <th>0</th>\n",
       "      <td>log_reg_test</td>\n",
       "      <td>0.817914</td>\n",
       "      <td>0.811658</td>\n",
       "      <td>0.854983</td>\n",
       "      <td>0.832757</td>\n",
       "    </tr>\n",
       "    <tr>\n",
       "      <th>1</th>\n",
       "      <td>rf_test</td>\n",
       "      <td>0.529733</td>\n",
       "      <td>0.540144</td>\n",
       "      <td>0.998457</td>\n",
       "      <td>0.701040</td>\n",
       "    </tr>\n",
       "    <tr>\n",
       "      <th>2</th>\n",
       "      <td>stacking_test</td>\n",
       "      <td>0.529733</td>\n",
       "      <td>0.540144</td>\n",
       "      <td>0.998457</td>\n",
       "      <td>0.701040</td>\n",
       "    </tr>\n",
       "  </tbody>\n",
       "</table>\n",
       "</div>"
      ],
      "text/plain": [
       "           model   bal_acc  precision    recall        f1\n",
       "0   log_reg_test  0.817914   0.811658  0.854983  0.832757\n",
       "1        rf_test  0.529733   0.540144  0.998457  0.701040\n",
       "2  stacking_test  0.529733   0.540144  0.998457  0.701040"
      ]
     },
     "execution_count": 227,
     "metadata": {},
     "output_type": "execute_result"
    }
   ],
   "source": [
    "cvec_data"
   ]
  },
  {
   "cell_type": "code",
   "execution_count": 244,
   "metadata": {},
   "outputs": [
    {
     "data": {
      "text/plain": [
       "Index(['bal_acc', 'precision', 'recall', 'f1'], dtype='object')"
      ]
     },
     "execution_count": 244,
     "metadata": {},
     "output_type": "execute_result"
    }
   ],
   "source": []
  },
  {
   "cell_type": "code",
   "execution_count": 248,
   "metadata": {},
   "outputs": [
    {
     "data": {
      "image/png": "[encoded data removed]",
      "text/plain": [
       "<Figure size 640x480 with 1 Axes>"
      ]
     },
     "metadata": {},
     "output_type": "display_data"
    }
   ],
   "source": [
    "x = cvec_data.columns[1:]\n",
    "plt.title(\"Model Performance on CVEC\")\n",
    "plt.xlabel(\"Score Type\")\n",
    "plt.ylabel(\"Score Value\")\n",
    "plt.grid(True)\n",
    "plt.plot(x, cvec_data.iloc[0, 1:], alpha=0.5, label=\"log_reg\", color=\"green\")\n",
    "plt.plot(x, cvec_data.iloc[1, 1:], alpha=0.5, label=\"rf\", color=\"orange\")\n",
    "plt.plot(x, tfidf_data.iloc[2, 1:], alpha=0.5, label=\"stack\", color=\"blue\")\n",
    "plt.legend()\n",
    "plt.savefig(\"../images/model_performance.png\")\n",
    "plt.show()"
   ]
  },
  {
   "attachments": {},
   "cell_type": "markdown",
   "metadata": {},
   "source": [
    "# <font color='blue'>Conclusion</font>"
   ]
  },
  {
   "cell_type": "markdown",
   "metadata": {},
   "source": [
    "## <font color='green'>Model Takeaways</font>"
   ]
  },
  {
   "attachments": {},
   "cell_type": "markdown",
   "metadata": {},
   "source": [
    "Ultimately, we will be evaluating based on the balanced accuracy because both classes are of equal importance (a false positive is not more dangerous than a false negative; a true positive is also just as important to get right as is the true negative). Based on these considerations, a balanced accuracy score is more important.\n",
    "\n",
    "Aside on F1-score vs balanced accuracy: F1-scores is not a great capture of our true negatives rate, but as we had mentioned above, we care about getting true positives AND true negatives equally correct. Thus, the balanced accuracy wins against F1."
   ]
  },
  {
   "attachments": {},
   "cell_type": "markdown",
   "metadata": {},
   "source": [
    "Thus, the models best for our data science clients is:\n",
    "- Logistic Regression\n",
    "\n",
    "These results will be included in the executive summary below."
   ]
  },
  {
   "attachments": {},
   "cell_type": "markdown",
   "metadata": {},
   "source": [
    "## <font color='green'>Executive Summary</font>"
   ]
  },
  {
   "attachments": {},
   "cell_type": "markdown",
   "metadata": {},
   "source": [
    "### Takeaway\n",
    "Via collaborating with this project, you (data science client) can kickstart your internal Subreddit project.\n",
    "\n",
    "### Opportunity\n",
    "Your team is interested in eventually launching targetted recommendations/ads to users on the AskScience and AskReddit subreddits. These channels have a combined over 14M subscribers, and even more internet foot traffic. However, given the scale of the posts and importance of the task, you need a rigorous classifier.\n",
    "\n",
    "### Solution\n",
    "This project provides multiple pre-trained models for you to pick form. Given your parameters (eg. both classes are equally important to be identified), the logistic model included in this project is the best fit for your business need. However, supplementary models are provided as well as a streamlined \"launching point\" for your team's future data science efforts.\n",
    "\n",
    "### Benefits\n",
    "This project saves your team money and hassle through a number of ways:\n",
    "- data collection script created for any future data needs\n",
    "- tedious data collection is done\n",
    "- high-quality data cleaning is done\n",
    "- pre-trained models (including its associated compute time) are done and provided\n",
    "- out-of-box solution with strong classifier potential"
   ]
  },
  {
   "cell_type": "markdown",
   "metadata": {},
   "source": []
  }
 ],
 "metadata": {
  "kernelspec": {
   "display_name": "PythonData",
   "language": "python",
   "name": "python3"
  },
  "language_info": {
   "codemirror_mode": {
    "name": "ipython",
    "version": 3
   },
   "file_extension": ".py",
   "mimetype": "text/x-python",
   "name": "python",
   "nbconvert_exporter": "python",
   "pygments_lexer": "ipython3",
   "version": "3.9.16"
  },
  "orig_nbformat": 4
 },
 "nbformat": 4,
 "nbformat_minor": 2
}
